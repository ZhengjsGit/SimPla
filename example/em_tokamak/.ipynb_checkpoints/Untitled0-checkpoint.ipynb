{
 "metadata": {
  "name": "",
  "signature": "sha256:75b55eec3e484bee4afb4ea95f5a507465394ab1b38b24fd24b0dd63f83ece91"
 },
 "nbformat": 3,
 "nbformat_minor": 0,
 "worksheets": []
}
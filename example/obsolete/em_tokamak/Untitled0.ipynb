{
 "metadata": {
  "name": "",
  "signature": "sha256:24e7dc61c361ada4496f0b2fdc0429a565a4164b414e6e65d754c0c89436b669"
 },
 "nbformat": 3,
 "nbformat_minor": 0,
 "worksheets": [
  {
   "cells": [
    {
     "cell_type": "code",
     "collapsed": false,
     "input": [
      "%matplotlib inline\n",
      "import yt\n",
      "import h5py as h5\n",
      "import numpy as np\n",
      "import matplotlib.pyplot as plt"
     ],
     "language": "python",
     "metadata": {},
     "outputs": [],
     "prompt_number": 1
    },
    {
     "cell_type": "code",
     "collapsed": false,
     "input": [
      "f1.close();f1=h5.File(\"/pkg/clion/etc/system/cmake/generated/5162468/5162468/Release/example/em_tokamak/tokamak0113.h5\")"
     ],
     "language": "python",
     "metadata": {},
     "outputs": [],
     "prompt_number": 4
    },
    {
     "cell_type": "code",
     "collapsed": false,
     "input": [],
     "language": "python",
     "metadata": {},
     "outputs": []
    }
   ],
   "metadata": {}
  }
 ]
}